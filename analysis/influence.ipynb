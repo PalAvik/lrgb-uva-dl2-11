{
 "cells": [
  {
   "cell_type": "code",
   "execution_count": null,
   "metadata": {
    "collapsed": true
   },
   "outputs": [],
   "source": [
    "import pickle\n",
    "import torch\n",
    "import torch_geometric as tg\n",
    "\n",
    "import networkx as nx\n",
    "\n",
    "import pandas as pd\n",
    "import numpy as np\n",
    "\n",
    "import matplotlib.pyplot as plt"
   ]
  },
  {
   "cell_type": "markdown",
   "source": [
    "### Example Script"
   ],
   "metadata": {
    "collapsed": false
   }
  },
  {
   "cell_type": "code",
   "execution_count": null,
   "outputs": [],
   "source": [
    "with open(r'inf_scores_gcn_with_adj.pkl', 'rb') as f:\n",
    "    all_res = pickle.load(f)\n",
    "    print(f\"{len(all_res)} graphs loaded\")\n",
    "\n",
    "x = all_res[0]"
   ],
   "metadata": {
    "collapsed": false
   }
  },
  {
   "cell_type": "code",
   "execution_count": null,
   "outputs": [],
   "source": [
    "# Normalisation code\n",
    "\n",
    "inf = x['influence_score'].copy()\n",
    "\n",
    "def row_normalise(inf):\n",
    "\n",
    "    row_totals = inf.sum(axis=1)\n",
    "    norm = (inf.T/row_totals).T\n",
    "\n",
    "    return norm\n",
    "\n",
    "assert np.allclose(row_normalise(inf).sum(axis=1), 1.0)"
   ],
   "metadata": {
    "collapsed": false
   }
  },
  {
   "cell_type": "code",
   "execution_count": null,
   "outputs": [],
   "source": [
    "inf = row_normalise(inf)\n",
    "df = pd.DataFrame(inf)"
   ],
   "metadata": {
    "collapsed": false
   }
  },
  {
   "cell_type": "code",
   "execution_count": null,
   "outputs": [],
   "source": [
    "df.index.name = 'source' # TODO is this right?\n",
    "\n",
    "melted = df.melt(ignore_index = False)\n",
    "melted = melted.reset_index() # Move source index to be a column, gives unique index\n",
    "melted = melted.rename(columns={'variable': 'target',\n",
    "                                'value': 'influence_score',\n",
    "                                'index': 'source'})"
   ],
   "metadata": {
    "collapsed": false
   }
  },
  {
   "cell_type": "code",
   "execution_count": null,
   "outputs": [],
   "source": [
    "source_coords = pd.DataFrame(x['xpos'])\n",
    "target_coords = source_coords.copy()\n",
    "\n",
    "source_coords.index.name = 'source'\n",
    "source_coords = source_coords.reset_index()\n",
    "\n",
    "target_coords.index.name = 'target'\n",
    "target_coords = target_coords.reset_index()\n",
    "\n",
    "\n",
    "target_cords = target_coords.rename(columns={0: 'target_x', 1: 'target_y'})\n",
    "source_coords = source_coords.rename(columns={0: 'source_x', 1: 'source_y'})"
   ],
   "metadata": {
    "collapsed": false
   }
  },
  {
   "cell_type": "code",
   "execution_count": null,
   "outputs": [],
   "source": [
    "print(len(melted))"
   ],
   "metadata": {
    "collapsed": false
   }
  },
  {
   "cell_type": "code",
   "execution_count": null,
   "outputs": [],
   "source": [
    "melted = melted.merge(source_coords, on='source', how='left')\n",
    "melted = melted.merge(target_cords, on='target', how='left')"
   ],
   "metadata": {
    "collapsed": false
   }
  },
  {
   "cell_type": "code",
   "execution_count": null,
   "outputs": [],
   "source": [
    "print(len(melted))"
   ],
   "metadata": {
    "collapsed": false
   }
  },
  {
   "cell_type": "code",
   "execution_count": null,
   "outputs": [],
   "source": [
    "melted['distance_sq'] = (melted['source_x'] - melted['target_x'])**2 + (melted['source_y'] -\n",
    "                                                                        melted['target_y'] )**2\n",
    "melted['distance'] = np.sqrt(melted['distance_sq'])"
   ],
   "metadata": {
    "collapsed": false
   }
  },
  {
   "cell_type": "code",
   "execution_count": null,
   "outputs": [],
   "source": [
    "print(len(melted))"
   ],
   "metadata": {
    "collapsed": false
   }
  },
  {
   "cell_type": "code",
   "execution_count": null,
   "outputs": [],
   "source": [
    "melted.plot.scatter('distance', 'influence_score', logy=False, alpha=0.2)"
   ],
   "metadata": {
    "collapsed": false
   }
  },
  {
   "cell_type": "markdown",
   "source": [
    "### Graph Based Distance Measure"
   ],
   "metadata": {
    "collapsed": false
   }
  },
  {
   "cell_type": "code",
   "execution_count": null,
   "outputs": [],
   "source": [
    "edges = x['edges'].copy().astype(int)\n",
    "\n",
    "coords = x['xpos'].copy()\n",
    "\n",
    "edges = torch.Tensor(edges)\n",
    "coords = torch.Tensor(coords)\n",
    "\n",
    "data = tg.data.Data(edge_index=edges,\n",
    "                    x=coords)"
   ],
   "metadata": {
    "collapsed": false
   }
  },
  {
   "cell_type": "code",
   "execution_count": null,
   "outputs": [],
   "source": [
    "g = tg.utils.convert.to_networkx(data)"
   ],
   "metadata": {
    "collapsed": false
   }
  },
  {
   "cell_type": "code",
   "execution_count": null,
   "outputs": [],
   "source": [
    "shortest_paths = nx.algorithms.shortest_paths.dense.floyd_warshall_numpy(g, weight=None)\n",
    "shortest_paths = pd.DataFrame(shortest_paths)\n",
    "\n",
    "shortest_paths_map = shortest_paths.melt(ignore_index=False)\n",
    "shortest_paths_map = shortest_paths_map.reset_index()\n",
    "shortest_paths_map = shortest_paths_map.rename(columns={'index': 'source',\n",
    "                                                        'variable': 'target',\n",
    "                                                        'value': 'graph_distance'}\n",
    "                                               )\n",
    "\n",
    "shortest_paths_map['graph_distance'] = shortest_paths_map['graph_distance'].astype('int')"
   ],
   "metadata": {
    "collapsed": false
   }
  },
  {
   "cell_type": "code",
   "execution_count": null,
   "outputs": [],
   "source": [
    "melted = melted.merge(shortest_paths_map, on=['source', 'target'])\n",
    "melted.plot.scatter('graph_distance', 'influence_score', logy=False, alpha=0.2,)"
   ],
   "metadata": {
    "collapsed": false
   }
  },
  {
   "cell_type": "code",
   "execution_count": null,
   "outputs": [],
   "source": [
    "per_distance_per_source = melted.groupby(['graph_distance', 'source'])['influence_score'].sum()\n",
    "per_distance_per_source.groupby('graph_distance').mean().plot()"
   ],
   "metadata": {
    "collapsed": false
   }
  },
  {
   "cell_type": "code",
   "execution_count": null,
   "outputs": [],
   "source": [
    "per_distance_per_source.groupby('graph_distance').mean().sum()"
   ],
   "metadata": {
    "collapsed": false
   }
  },
  {
   "cell_type": "markdown",
   "source": [
    "### Proper pipeline"
   ],
   "metadata": {
    "collapsed": false
   }
  },
  {
   "cell_type": "code",
   "execution_count": null,
   "outputs": [],
   "source": [
    "%load_ext autoreload\n",
    "%autoreload 2"
   ],
   "metadata": {
    "collapsed": false
   }
  },
  {
   "cell_type": "code",
   "execution_count": null,
   "outputs": [],
   "source": [
    "from influence import process_all_graphs, plot_mean_influence_by_distance"
   ],
   "metadata": {
    "collapsed": false
   }
  },
  {
   "cell_type": "code",
   "execution_count": null,
   "outputs": [],
   "source": [
    "influence_df_gcn = process_all_graphs('inf_scores_gcn_with_adj.pkl',\n",
    "                                      normalise=True)"
   ],
   "metadata": {
    "collapsed": false
   }
  },
  {
   "cell_type": "code",
   "execution_count": null,
   "outputs": [],
   "source": [
    "influence_df_transformer = process_all_graphs('inf_scores_GT.pkl',\n",
    "                                              normalise=True)"
   ],
   "metadata": {
    "collapsed": false
   }
  },
  {
   "cell_type": "code",
   "execution_count": null,
   "outputs": [],
   "source": [
    "influence_df_egnn = process_all_graphs('inf_scores_egnn.pkl', normalise=True)"
   ],
   "metadata": {
    "collapsed": false
   }
  },
  {
   "cell_type": "code",
   "execution_count": null,
   "outputs": [],
   "source": [
    "fig, ax = plt.subplots()\n",
    "plot_mean_influence_by_distance(influence_df_gcn, ax, 'gcn')\n",
    "plot_mean_influence_by_distance(influence_df_transformer, ax, 'transformer')\n",
    "plot_mean_influence_by_distance(influence_df_egnn, ax, 'egnn')"
   ],
   "metadata": {
    "collapsed": false
   }
  },
  {
   "cell_type": "code",
   "execution_count": null,
   "outputs": [],
   "source": [
    "influence_df_gcn[influence_df_gcn.target == 1].count()"
   ],
   "metadata": {
    "collapsed": false
   }
  },
  {
   "cell_type": "code",
   "execution_count": null,
   "outputs": [],
   "source": [],
   "metadata": {
    "collapsed": false
   }
  }
 ],
 "metadata": {
  "kernelspec": {
   "display_name": "Python 3",
   "language": "python",
   "name": "python3"
  },
  "language_info": {
   "codemirror_mode": {
    "name": "ipython",
    "version": 2
   },
   "file_extension": ".py",
   "mimetype": "text/x-python",
   "name": "python",
   "nbconvert_exporter": "python",
   "pygments_lexer": "ipython2",
   "version": "2.7.6"
  }
 },
 "nbformat": 4,
 "nbformat_minor": 0
}
