{
 "cells": [
  {
   "cell_type": "code",
   "execution_count": null,
   "outputs": [],
   "source": [
    "import pandas as pd\n",
    "\n",
    "import numpy as np\n",
    "import matplotlib.pyplot as plt\n",
    "import seaborn as sns"
   ],
   "metadata": {
    "collapsed": false
   }
  },
  {
   "cell_type": "code",
   "execution_count": null,
   "outputs": [],
   "source": [
    "### Nik Version\n",
    "N = 1000\n",
    "B=15\n",
    "cheeger_values = np.random.normal(size=N)\n",
    "asp_values = np.random.normal(size=N)\n",
    "\n",
    "graph_metrics = pd.DataFrame(data={'cheeger_median': cheeger_values,\n",
    "                                      'shortest_path': asp_values}\n",
    "                                )\n",
    "\n"
   ],
   "metadata": {
    "collapsed": false
   }
  },
  {
   "cell_type": "code",
   "execution_count": null,
   "outputs": [],
   "source": [
    "graph_metrics['cheeger_bin'] = pd.cut(graph_metrics['cheeger_median'], B)\n",
    "graph_metrics['asp_bin'] = pd.cut(graph_metrics['shortest_path'], B)\n",
    "graph_metrics['graph_id'] = graph_metrics.index.values\n",
    "\n",
    "binned = graph_metrics.groupby(['cheeger_bin', 'asp_bin'])['cheeger_median'].count().unstack('cheeger_bin')\n",
    "binned = binned/binned.sum().sum()"
   ],
   "metadata": {
    "collapsed": false
   }
  },
  {
   "cell_type": "code",
   "execution_count": null,
   "outputs": [],
   "source": [
    "graph_metrics.head()"
   ],
   "metadata": {
    "collapsed": false
   }
  },
  {
   "cell_type": "code",
   "execution_count": null,
   "outputs": [],
   "source": [
    "sns.heatmap(binned)"
   ],
   "metadata": {
    "collapsed": false
   }
  },
  {
   "cell_type": "markdown",
   "source": [],
   "metadata": {
    "collapsed": false
   }
  },
  {
   "cell_type": "code",
   "execution_count": null,
   "outputs": [],
   "source": [
    "r = np.arange(1, 7)\n",
    "empirical = np.array([np.nan, 4, 16, 64,\n",
    "             128, 256,\n",
    "             ])\n",
    "\n",
    "their_prediction =  np.array([1, 1, 1, 3, 8, 19 ])\n",
    "my_prediction = 2**(r+2)\n"
   ],
   "metadata": {
    "collapsed": false
   }
  },
  {
   "cell_type": "code",
   "execution_count": null,
   "outputs": [],
   "source": [
    "fig, ax = plt.subplots()\n",
    "ax.plot(r, empirical)\n",
    "ax.plot(r, their_prediction)\n",
    "ax.plot(r, my_prediction)\n"
   ],
   "metadata": {
    "collapsed": false
   }
  },
  {
   "cell_type": "code",
   "execution_count": null,
   "outputs": [],
   "source": [],
   "metadata": {
    "collapsed": false
   }
  }
 ],
 "metadata": {
  "kernelspec": {
   "display_name": "Python 3",
   "language": "python",
   "name": "python3"
  },
  "language_info": {
   "codemirror_mode": {
    "name": "ipython",
    "version": 2
   },
   "file_extension": ".py",
   "mimetype": "text/x-python",
   "name": "python",
   "nbconvert_exporter": "python",
   "pygments_lexer": "ipython2",
   "version": "2.7.6"
  }
 },
 "nbformat": 4,
 "nbformat_minor": 0
}
