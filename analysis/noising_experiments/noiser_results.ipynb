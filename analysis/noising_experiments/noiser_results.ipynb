{
 "cells": [
  {
   "cell_type": "code",
   "execution_count": null,
   "metadata": {
    "collapsed": true
   },
   "outputs": [],
   "source": [
    "import pandas as pd\n",
    "import matplotlib.pyplot as plt\n",
    "from sklearn import metrics"
   ]
  },
  {
   "cell_type": "code",
   "execution_count": null,
   "outputs": [],
   "source": [
    "def pre_process_df(df_path, max_path_length=15):\n",
    "    df = pd.read_pickle(df_path)\n",
    "    df['standard_prediction_correct'] = df['truth'] == df['standard_prediction']\n",
    "    path_length_columns = df.filter(regex='path_length').columns\n",
    "\n",
    "    max_index = max_path_length-len(path_length_columns)\n",
    "    drop_path_length_columns = path_length_columns[max_index:]\n",
    "    df = df.drop(columns=drop_path_length_columns)\n",
    "    path_length_columns = path_length_columns[:max_index]\n",
    "\n",
    "    for path_length_column_name in path_length_columns:\n",
    "        # print(path_length_column_name)\n",
    "        df[path_length_column_name] = df[path_length_column_name].fillna(df['standard_prediction'])\n",
    "        df[path_length_column_name] = df[path_length_column_name].astype(int)\n",
    "        correct_label = path_length_column_name.rstrip('_prediction') + '_correct'\n",
    "\n",
    "        df[correct_label] = df[path_length_column_name] == df['truth']\n",
    "    return df\n",
    "\n",
    "def get_relative_accuracy(df):\n",
    "    corrects = df.filter(regex='correct').sum()\n",
    "    prop_corrects = (corrects/corrects.loc['standard_prediction_correct'])\n",
    "    prop_corrects = prop_corrects.filter(regex='path')\n",
    "    prop_corrects = prop_corrects.to_frame().reset_index()\n",
    "    prop_corrects['path_length'] = prop_corrects['index'].str.split('_').apply(lambda x: x[2]).astype(int)\n",
    "    prop_corrects = prop_corrects.drop(columns=['index'])\n",
    "    prop_corrects = prop_corrects.rename(columns={0: 'relative_accuracy'})\n",
    "\n",
    "    return prop_corrects\n",
    "\n",
    "def get_relative_f1s(df):\n",
    "    prediction_columns = df.filter(regex='path_length_[0-9]*_prediction')\n",
    "\n",
    "    f1s = {'standard': metrics.f1_score(df['truth'], df['standard_prediction'], average='macro')\n",
    "           }\n",
    "    for pc in prediction_columns:\n",
    "        name = pc.rstrip('_prediction')\n",
    "        f1s[name] = metrics.f1_score(df['truth'], df[pc], average='macro')\n",
    "\n",
    "    f1s = pd.DataFrame(data=f1s, index=['f1_score']).T\n",
    "    relative_f1s = (f1s/f1s.iloc[0]).iloc[1:]\n",
    "    relative_f1s = relative_f1s.reset_index().rename(columns={'index': 'path_length_str'})\n",
    "    relative_f1s['path_length'] = relative_f1s['path_length_str'].str.lstrip('path_length_').astype(int)\n",
    "    relative_f1s = relative_f1s.drop(columns='path_length_str')\n",
    "\n",
    "    return relative_f1s"
   ],
   "metadata": {
    "collapsed": false
   }
  },
  {
   "cell_type": "code",
   "execution_count": null,
   "outputs": [],
   "source": [
    "transformer = pre_process_df('transformer_noise.pkl')\n",
    "gcn = pre_process_df('gcn_10.pkl')"
   ],
   "metadata": {
    "collapsed": false
   }
  },
  {
   "cell_type": "code",
   "execution_count": null,
   "outputs": [],
   "source": [
    "transformer_acc = get_relative_accuracy(transformer)\n",
    "gcn_acc = get_relative_accuracy(gcn)"
   ],
   "metadata": {
    "collapsed": false
   }
  },
  {
   "cell_type": "code",
   "execution_count": null,
   "outputs": [],
   "source": [
    "fig, ax = plt.subplots()\n",
    "kwargs = {'drawstyle': 'steps-mid'}\n",
    "transformer_acc.plot('path_length', 'relative_accuracy', ax=ax, label='Transformer', **kwargs)\n",
    "gcn_acc.plot('path_length', 'relative_accuracy', ax=ax, label='gcn', **kwargs)\n",
    "\n",
    "ax.set_ylabel('Relative Accuracy')\n",
    "ax.set_xlabel('Path Length')"
   ],
   "metadata": {
    "collapsed": false
   }
  },
  {
   "cell_type": "code",
   "execution_count": null,
   "outputs": [],
   "source": [
    "transformer_f1  = get_relative_f1s(transformer)\n",
    "gcn_f1 = get_relative_f1s(gcn)"
   ],
   "metadata": {
    "collapsed": false
   }
  },
  {
   "cell_type": "code",
   "execution_count": null,
   "outputs": [],
   "source": [
    "fig, ax = plt.subplots()\n",
    "kwargs = {'drawstyle': 'steps-mid'}\n",
    "transformer_f1.plot('path_length', 'f1_score', ax=ax, label='Transformer', **kwargs)\n",
    "gcn_f1.plot('path_length', 'f1_score', ax=ax, label='gcn', **kwargs)\n",
    "\n",
    "ax.set_ylabel('Relative F1-Score')\n",
    "ax.set_xlabel('Path Length')"
   ],
   "metadata": {
    "collapsed": false
   }
  },
  {
   "cell_type": "code",
   "execution_count": null,
   "outputs": [],
   "source": [],
   "metadata": {
    "collapsed": false
   }
  }
 ],
 "metadata": {
  "kernelspec": {
   "display_name": "Python 3",
   "language": "python",
   "name": "python3"
  },
  "language_info": {
   "codemirror_mode": {
    "name": "ipython",
    "version": 2
   },
   "file_extension": ".py",
   "mimetype": "text/x-python",
   "name": "python",
   "nbconvert_exporter": "python",
   "pygments_lexer": "ipython2",
   "version": "2.7.6"
  }
 },
 "nbformat": 4,
 "nbformat_minor": 0
}
