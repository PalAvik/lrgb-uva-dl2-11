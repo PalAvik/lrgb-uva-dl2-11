{
 "cells": [
  {
   "cell_type": "code",
   "execution_count": 1,
   "metadata": {
    "collapsed": true
   },
   "outputs": [],
   "source": [
    "import pandas as pd"
   ]
  },
  {
   "cell_type": "code",
   "execution_count": 2,
   "outputs": [
    {
     "data": {
      "text/plain": "   graph_id  target_node      truth standard_prediction  \\\n0         0            0  tensor(0)           tensor(0)   \n0         0            1  tensor(0)           tensor(0)   \n0         0            2  tensor(0)           tensor(0)   \n0         0            3  tensor(0)           tensor(0)   \n0         0            4  tensor(0)           tensor(0)   \n\n   path_length_0_prediction  path_length_1_prediction  \\\n0                       0.0                       0.0   \n0                       0.0                       0.0   \n0                       0.0                       0.0   \n0                       0.0                       0.0   \n0                       0.0                       8.0   \n\n   path_length_2_prediction  path_length_3_prediction  \\\n0                       0.0                       0.0   \n0                       0.0                       0.0   \n0                       0.0                       0.0   \n0                       0.0                       0.0   \n0                       8.0                       0.0   \n\n   path_length_4_prediction  path_length_5_prediction  ...  \\\n0                       0.0                       0.0  ...   \n0                       0.0                       0.0  ...   \n0                       0.0                       0.0  ...   \n0                       0.0                       0.0  ...   \n0                       0.0                       0.0  ...   \n\n   path_length_11_prediction  path_length_12_prediction  \\\n0                        0.0                        0.0   \n0                        0.0                        0.0   \n0                        0.0                        0.0   \n0                        0.0                        0.0   \n0                        0.0                        0.0   \n\n   path_length_13_prediction  path_length_14_prediction  \\\n0                        0.0                        0.0   \n0                        0.0                        0.0   \n0                        0.0                        0.0   \n0                        0.0                        0.0   \n0                        0.0                        0.0   \n\n   path_length_15_prediction  path_length_16_prediction  \\\n0                        0.0                        0.0   \n0                        0.0                        0.0   \n0                        0.0                        0.0   \n0                        0.0                        0.0   \n0                        0.0                        0.0   \n\n   path_length_17_prediction  path_length_18_prediction  \\\n0                        0.0                        0.0   \n0                        0.0                        0.0   \n0                        0.0                        0.0   \n0                        0.0                        0.0   \n0                        0.0                        0.0   \n\n   path_length_19_prediction  path_length_20_prediction  \n0                        0.0                        0.0  \n0                        0.0                        0.0  \n0                        0.0                        NaN  \n0                        0.0                        NaN  \n0                        NaN                        NaN  \n\n[5 rows x 25 columns]",
      "text/html": "<div>\n<style scoped>\n    .dataframe tbody tr th:only-of-type {\n        vertical-align: middle;\n    }\n\n    .dataframe tbody tr th {\n        vertical-align: top;\n    }\n\n    .dataframe thead th {\n        text-align: right;\n    }\n</style>\n<table border=\"1\" class=\"dataframe\">\n  <thead>\n    <tr style=\"text-align: right;\">\n      <th></th>\n      <th>graph_id</th>\n      <th>target_node</th>\n      <th>truth</th>\n      <th>standard_prediction</th>\n      <th>path_length_0_prediction</th>\n      <th>path_length_1_prediction</th>\n      <th>path_length_2_prediction</th>\n      <th>path_length_3_prediction</th>\n      <th>path_length_4_prediction</th>\n      <th>path_length_5_prediction</th>\n      <th>...</th>\n      <th>path_length_11_prediction</th>\n      <th>path_length_12_prediction</th>\n      <th>path_length_13_prediction</th>\n      <th>path_length_14_prediction</th>\n      <th>path_length_15_prediction</th>\n      <th>path_length_16_prediction</th>\n      <th>path_length_17_prediction</th>\n      <th>path_length_18_prediction</th>\n      <th>path_length_19_prediction</th>\n      <th>path_length_20_prediction</th>\n    </tr>\n  </thead>\n  <tbody>\n    <tr>\n      <th>0</th>\n      <td>0</td>\n      <td>0</td>\n      <td>tensor(0)</td>\n      <td>tensor(0)</td>\n      <td>0.0</td>\n      <td>0.0</td>\n      <td>0.0</td>\n      <td>0.0</td>\n      <td>0.0</td>\n      <td>0.0</td>\n      <td>...</td>\n      <td>0.0</td>\n      <td>0.0</td>\n      <td>0.0</td>\n      <td>0.0</td>\n      <td>0.0</td>\n      <td>0.0</td>\n      <td>0.0</td>\n      <td>0.0</td>\n      <td>0.0</td>\n      <td>0.0</td>\n    </tr>\n    <tr>\n      <th>0</th>\n      <td>0</td>\n      <td>1</td>\n      <td>tensor(0)</td>\n      <td>tensor(0)</td>\n      <td>0.0</td>\n      <td>0.0</td>\n      <td>0.0</td>\n      <td>0.0</td>\n      <td>0.0</td>\n      <td>0.0</td>\n      <td>...</td>\n      <td>0.0</td>\n      <td>0.0</td>\n      <td>0.0</td>\n      <td>0.0</td>\n      <td>0.0</td>\n      <td>0.0</td>\n      <td>0.0</td>\n      <td>0.0</td>\n      <td>0.0</td>\n      <td>0.0</td>\n    </tr>\n    <tr>\n      <th>0</th>\n      <td>0</td>\n      <td>2</td>\n      <td>tensor(0)</td>\n      <td>tensor(0)</td>\n      <td>0.0</td>\n      <td>0.0</td>\n      <td>0.0</td>\n      <td>0.0</td>\n      <td>0.0</td>\n      <td>0.0</td>\n      <td>...</td>\n      <td>0.0</td>\n      <td>0.0</td>\n      <td>0.0</td>\n      <td>0.0</td>\n      <td>0.0</td>\n      <td>0.0</td>\n      <td>0.0</td>\n      <td>0.0</td>\n      <td>0.0</td>\n      <td>NaN</td>\n    </tr>\n    <tr>\n      <th>0</th>\n      <td>0</td>\n      <td>3</td>\n      <td>tensor(0)</td>\n      <td>tensor(0)</td>\n      <td>0.0</td>\n      <td>0.0</td>\n      <td>0.0</td>\n      <td>0.0</td>\n      <td>0.0</td>\n      <td>0.0</td>\n      <td>...</td>\n      <td>0.0</td>\n      <td>0.0</td>\n      <td>0.0</td>\n      <td>0.0</td>\n      <td>0.0</td>\n      <td>0.0</td>\n      <td>0.0</td>\n      <td>0.0</td>\n      <td>0.0</td>\n      <td>NaN</td>\n    </tr>\n    <tr>\n      <th>0</th>\n      <td>0</td>\n      <td>4</td>\n      <td>tensor(0)</td>\n      <td>tensor(0)</td>\n      <td>0.0</td>\n      <td>8.0</td>\n      <td>8.0</td>\n      <td>0.0</td>\n      <td>0.0</td>\n      <td>0.0</td>\n      <td>...</td>\n      <td>0.0</td>\n      <td>0.0</td>\n      <td>0.0</td>\n      <td>0.0</td>\n      <td>0.0</td>\n      <td>0.0</td>\n      <td>0.0</td>\n      <td>0.0</td>\n      <td>NaN</td>\n      <td>NaN</td>\n    </tr>\n  </tbody>\n</table>\n<p>5 rows × 25 columns</p>\n</div>"
     },
     "execution_count": 2,
     "metadata": {},
     "output_type": "execute_result"
    }
   ],
   "source": [
    "pd.read_pickle('./../../test_noising_experiment.pickle')"
   ],
   "metadata": {
    "collapsed": false
   }
  },
  {
   "cell_type": "code",
   "execution_count": null,
   "outputs": [],
   "source": [],
   "metadata": {
    "collapsed": false
   }
  }
 ],
 "metadata": {
  "kernelspec": {
   "display_name": "Python 3",
   "language": "python",
   "name": "python3"
  },
  "language_info": {
   "codemirror_mode": {
    "name": "ipython",
    "version": 2
   },
   "file_extension": ".py",
   "mimetype": "text/x-python",
   "name": "python",
   "nbconvert_exporter": "python",
   "pygments_lexer": "ipython2",
   "version": "2.7.6"
  }
 },
 "nbformat": 4,
 "nbformat_minor": 0
}
