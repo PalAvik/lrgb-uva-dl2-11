{
 "cells": [
  {
   "cell_type": "code",
   "execution_count": 2,
   "metadata": {
    "collapsed": true
   },
   "outputs": [],
   "source": [
    "import pandas as pd\n",
    "import matplotlib.pyplot as plt\n",
    "\n",
    "# from graphgps.loader.dataset.voc_superpixels import VOCSuperpixels"
   ]
  },
  {
   "cell_type": "code",
   "execution_count": 43,
   "outputs": [],
   "source": [
    "dfs = pd.read_pickle('noising_experiment_gcn_1_graph.pickle')"
   ],
   "metadata": {
    "collapsed": false
   }
  },
  {
   "cell_type": "code",
   "execution_count": 47,
   "outputs": [],
   "source": [
    "# df = pd.concat(dfs)\n",
    "# df = dfs[0]\n",
    "df = dfs"
   ],
   "metadata": {
    "collapsed": false
   }
  },
  {
   "cell_type": "code",
   "execution_count": 48,
   "outputs": [],
   "source": [
    "# sub = df[(df.path_length_18_prediction == df.truth) & (df.standard_prediction != df.truth)]\n",
    "# sub[['truth', 'path_length_18_prediction', 'standard_prediction']]"
   ],
   "metadata": {
    "collapsed": false
   }
  },
  {
   "cell_type": "code",
   "execution_count": 49,
   "outputs": [],
   "source": [
    "df['standard_prediction_correct'] = df['truth'] == df['standard_prediction']\n",
    "path_length_columns = df.filter(regex='path_length').columns\n",
    "\n",
    "for path_length_column_name in path_length_columns:\n",
    "    df[path_length_column_name] = df[path_length_column_name].fillna(df['standard_prediction'])\n",
    "    df[path_length_column_name] = df[path_length_column_name].astype(int)\n",
    "    correct_label = path_length_column_name.rstrip('_prediction') + '_correct'\n",
    "\n",
    "    df[correct_label] = df[path_length_column_name] == df['truth']"
   ],
   "metadata": {
    "collapsed": false
   }
  },
  {
   "cell_type": "code",
   "execution_count": 50,
   "outputs": [],
   "source": [
    "corrects = df.filter(regex='correct').sum()\n",
    "prop_corrects = (corrects/corrects.loc['standard_prediction_correct'])\n",
    "prop_corrects = prop_corrects.filter(regex='path')\n",
    "prop_corrects = prop_corrects.to_frame().reset_index()\n",
    "prop_corrects['path_length'] = prop_corrects['index'].str.split('_').apply(lambda x: x[2]).astype(int)\n",
    "prop_corrects = prop_corrects.drop(columns=['index'])\n",
    "prop_corrects = prop_corrects.rename(columns={0: 'relative_accuracy'})"
   ],
   "metadata": {
    "collapsed": false
   }
  },
  {
   "cell_type": "code",
   "execution_count": 51,
   "outputs": [
    {
     "data": {
      "text/plain": "standard_prediction_correct    266\npath_length_0_correct          177\npath_length_1_correct          200\npath_length_2_correct          220\npath_length_3_correct          210\npath_length_4_correct          252\npath_length_5_correct          263\npath_length_6_correct          265\npath_length_7_correct          266\npath_length_8_correct          266\npath_length_9_correct          266\npath_length_10_correct         266\npath_length_11_correct         266\npath_length_12_correct         266\npath_length_13_correct         266\npath_length_14_correct         266\npath_length_15_correct         266\npath_length_16_correct         266\npath_length_17_correct         266\npath_length_18_correct         266\npath_length_19_correct         266\npath_length_20_correct         259\ndtype: int64"
     },
     "execution_count": 51,
     "metadata": {},
     "output_type": "execute_result"
    }
   ],
   "source": [
    "corrects"
   ],
   "metadata": {
    "collapsed": false
   }
  },
  {
   "cell_type": "code",
   "execution_count": 52,
   "outputs": [
    {
     "data": {
      "text/plain": "standard_prediction_correct    482\npath_length_0_correct          482\npath_length_1_correct          482\npath_length_2_correct          482\npath_length_3_correct          482\npath_length_4_correct          482\npath_length_5_correct          482\npath_length_6_correct          482\npath_length_7_correct          482\npath_length_8_correct          482\npath_length_9_correct          482\npath_length_10_correct         482\npath_length_11_correct         482\npath_length_12_correct         482\npath_length_13_correct         482\npath_length_14_correct         482\npath_length_15_correct         482\npath_length_16_correct         482\npath_length_17_correct         482\npath_length_18_correct         482\npath_length_19_correct         482\npath_length_20_correct         482\ndtype: int64"
     },
     "execution_count": 52,
     "metadata": {},
     "output_type": "execute_result"
    }
   ],
   "source": [
    "df.filter(regex='correct').count()"
   ],
   "metadata": {
    "collapsed": false
   }
  },
  {
   "cell_type": "code",
   "execution_count": 40,
   "outputs": [],
   "source": [
    "# corrects.plot('path_length',\n",
    "#               'relative_accuracy'\n",
    "#               )"
   ],
   "metadata": {
    "collapsed": false
   }
  },
  {
   "cell_type": "code",
   "execution_count": 55,
   "outputs": [
    {
     "data": {
      "text/plain": "   graph_id  target_node  truth  standard_prediction   \n0         0          183     12                    8  \\\n0         0          185      0                   12   \n0         0          232      0                   10   \n0         0          290      0                    8   \n0         0          373      0                    8   \n0         0          390      0                    8   \n0         0          395      0                    8   \n0         0          397      0                    8   \n0         0          431      0                    8   \n0         0          438     12                    0   \n0         0          452     12                    0   \n0         0          453      0                    8   \n0         0          467     12                    0   \n0         0          469     12                    0   \n0         0          470      0                    8   \n0         0          472     12                    0   \n\n   path_length_0_prediction  path_length_1_prediction   \n0                        12                         9  \\\n0                         0                         0   \n0                         0                        12   \n0                         0                         0   \n0                         0                         0   \n0                         0                         0   \n0                         0                         0   \n0                         0                         0   \n0                         0                         0   \n0                         0                         0   \n0                         0                         0   \n0                         0                         0   \n0                         0                         0   \n0                         0                         0   \n0                         0                         0   \n0                         0                         0   \n\n   path_length_2_prediction  path_length_3_prediction   \n0                         0                        12  \\\n0                         8                         0   \n0                         0                         0   \n0                         0                        11   \n0                         0                         0   \n0                         0                         8   \n0                         0                         8   \n0                         0                         8   \n0                         0                         8   \n0                         0                        12   \n0                         8                        12   \n0                         0                         8   \n0                         0                        12   \n0                         0                         0   \n0                         0                         0   \n0                         0                         0   \n\n   path_length_4_prediction  path_length_5_prediction  ...   \n0                         8                         8  ...  \\\n0                         0                        12  ...   \n0                        10                        10  ...   \n0                         0                         0  ...   \n0                         0                         8  ...   \n0                         8                         8  ...   \n0                         8                         8  ...   \n0                         8                         8  ...   \n0                         8                         8  ...   \n0                         0                         0  ...   \n0                        12                         0  ...   \n0                         8                         8  ...   \n0                        17                         0  ...   \n0                         0                         0  ...   \n0                         8                         8  ...   \n0                         0                         0  ...   \n\n   path_length_11_correct  path_length_12_correct  path_length_13_correct   \n0                   False                   False                   False  \\\n0                   False                   False                   False   \n0                   False                   False                   False   \n0                   False                   False                   False   \n0                   False                   False                   False   \n0                   False                   False                   False   \n0                   False                   False                   False   \n0                   False                   False                   False   \n0                   False                   False                   False   \n0                   False                   False                   False   \n0                   False                   False                   False   \n0                   False                   False                   False   \n0                   False                   False                   False   \n0                   False                   False                   False   \n0                   False                   False                   False   \n0                   False                   False                   False   \n\n   path_length_14_correct  path_length_15_correct  path_length_16_correct   \n0                   False                   False                   False  \\\n0                   False                   False                   False   \n0                   False                   False                   False   \n0                   False                   False                   False   \n0                   False                   False                   False   \n0                   False                   False                   False   \n0                   False                   False                   False   \n0                   False                   False                   False   \n0                   False                   False                   False   \n0                   False                   False                   False   \n0                   False                   False                   False   \n0                   False                   False                   False   \n0                   False                   False                   False   \n0                   False                   False                   False   \n0                   False                   False                   False   \n0                   False                   False                   False   \n\n   path_length_17_correct  path_length_18_correct  path_length_19_correct   \n0                   False                   False                   False  \\\n0                   False                   False                   False   \n0                   False                   False                   False   \n0                   False                   False                   False   \n0                   False                   False                   False   \n0                   False                   False                   False   \n0                   False                   False                   False   \n0                   False                   False                   False   \n0                   False                   False                   False   \n0                   False                   False                   False   \n0                   False                   False                   False   \n0                   False                   False                   False   \n0                   False                   False                   False   \n0                   False                   False                   False   \n0                   False                   False                   False   \n0                   False                   False                   False   \n\n   path_length_20_correct  \n0                    True  \n0                    True  \n0                    True  \n0                    True  \n0                    True  \n0                    True  \n0                    True  \n0                    True  \n0                    True  \n0                    True  \n0                    True  \n0                    True  \n0                    True  \n0                    True  \n0                    True  \n0                    True  \n\n[16 rows x 47 columns]",
      "text/html": "<div>\n<style scoped>\n    .dataframe tbody tr th:only-of-type {\n        vertical-align: middle;\n    }\n\n    .dataframe tbody tr th {\n        vertical-align: top;\n    }\n\n    .dataframe thead th {\n        text-align: right;\n    }\n</style>\n<table border=\"1\" class=\"dataframe\">\n  <thead>\n    <tr style=\"text-align: right;\">\n      <th></th>\n      <th>graph_id</th>\n      <th>target_node</th>\n      <th>truth</th>\n      <th>standard_prediction</th>\n      <th>path_length_0_prediction</th>\n      <th>path_length_1_prediction</th>\n      <th>path_length_2_prediction</th>\n      <th>path_length_3_prediction</th>\n      <th>path_length_4_prediction</th>\n      <th>path_length_5_prediction</th>\n      <th>...</th>\n      <th>path_length_11_correct</th>\n      <th>path_length_12_correct</th>\n      <th>path_length_13_correct</th>\n      <th>path_length_14_correct</th>\n      <th>path_length_15_correct</th>\n      <th>path_length_16_correct</th>\n      <th>path_length_17_correct</th>\n      <th>path_length_18_correct</th>\n      <th>path_length_19_correct</th>\n      <th>path_length_20_correct</th>\n    </tr>\n  </thead>\n  <tbody>\n    <tr>\n      <th>0</th>\n      <td>0</td>\n      <td>183</td>\n      <td>12</td>\n      <td>8</td>\n      <td>12</td>\n      <td>9</td>\n      <td>0</td>\n      <td>12</td>\n      <td>8</td>\n      <td>8</td>\n      <td>...</td>\n      <td>False</td>\n      <td>False</td>\n      <td>False</td>\n      <td>False</td>\n      <td>False</td>\n      <td>False</td>\n      <td>False</td>\n      <td>False</td>\n      <td>False</td>\n      <td>True</td>\n    </tr>\n    <tr>\n      <th>0</th>\n      <td>0</td>\n      <td>185</td>\n      <td>0</td>\n      <td>12</td>\n      <td>0</td>\n      <td>0</td>\n      <td>8</td>\n      <td>0</td>\n      <td>0</td>\n      <td>12</td>\n      <td>...</td>\n      <td>False</td>\n      <td>False</td>\n      <td>False</td>\n      <td>False</td>\n      <td>False</td>\n      <td>False</td>\n      <td>False</td>\n      <td>False</td>\n      <td>False</td>\n      <td>True</td>\n    </tr>\n    <tr>\n      <th>0</th>\n      <td>0</td>\n      <td>232</td>\n      <td>0</td>\n      <td>10</td>\n      <td>0</td>\n      <td>12</td>\n      <td>0</td>\n      <td>0</td>\n      <td>10</td>\n      <td>10</td>\n      <td>...</td>\n      <td>False</td>\n      <td>False</td>\n      <td>False</td>\n      <td>False</td>\n      <td>False</td>\n      <td>False</td>\n      <td>False</td>\n      <td>False</td>\n      <td>False</td>\n      <td>True</td>\n    </tr>\n    <tr>\n      <th>0</th>\n      <td>0</td>\n      <td>290</td>\n      <td>0</td>\n      <td>8</td>\n      <td>0</td>\n      <td>0</td>\n      <td>0</td>\n      <td>11</td>\n      <td>0</td>\n      <td>0</td>\n      <td>...</td>\n      <td>False</td>\n      <td>False</td>\n      <td>False</td>\n      <td>False</td>\n      <td>False</td>\n      <td>False</td>\n      <td>False</td>\n      <td>False</td>\n      <td>False</td>\n      <td>True</td>\n    </tr>\n    <tr>\n      <th>0</th>\n      <td>0</td>\n      <td>373</td>\n      <td>0</td>\n      <td>8</td>\n      <td>0</td>\n      <td>0</td>\n      <td>0</td>\n      <td>0</td>\n      <td>0</td>\n      <td>8</td>\n      <td>...</td>\n      <td>False</td>\n      <td>False</td>\n      <td>False</td>\n      <td>False</td>\n      <td>False</td>\n      <td>False</td>\n      <td>False</td>\n      <td>False</td>\n      <td>False</td>\n      <td>True</td>\n    </tr>\n    <tr>\n      <th>0</th>\n      <td>0</td>\n      <td>390</td>\n      <td>0</td>\n      <td>8</td>\n      <td>0</td>\n      <td>0</td>\n      <td>0</td>\n      <td>8</td>\n      <td>8</td>\n      <td>8</td>\n      <td>...</td>\n      <td>False</td>\n      <td>False</td>\n      <td>False</td>\n      <td>False</td>\n      <td>False</td>\n      <td>False</td>\n      <td>False</td>\n      <td>False</td>\n      <td>False</td>\n      <td>True</td>\n    </tr>\n    <tr>\n      <th>0</th>\n      <td>0</td>\n      <td>395</td>\n      <td>0</td>\n      <td>8</td>\n      <td>0</td>\n      <td>0</td>\n      <td>0</td>\n      <td>8</td>\n      <td>8</td>\n      <td>8</td>\n      <td>...</td>\n      <td>False</td>\n      <td>False</td>\n      <td>False</td>\n      <td>False</td>\n      <td>False</td>\n      <td>False</td>\n      <td>False</td>\n      <td>False</td>\n      <td>False</td>\n      <td>True</td>\n    </tr>\n    <tr>\n      <th>0</th>\n      <td>0</td>\n      <td>397</td>\n      <td>0</td>\n      <td>8</td>\n      <td>0</td>\n      <td>0</td>\n      <td>0</td>\n      <td>8</td>\n      <td>8</td>\n      <td>8</td>\n      <td>...</td>\n      <td>False</td>\n      <td>False</td>\n      <td>False</td>\n      <td>False</td>\n      <td>False</td>\n      <td>False</td>\n      <td>False</td>\n      <td>False</td>\n      <td>False</td>\n      <td>True</td>\n    </tr>\n    <tr>\n      <th>0</th>\n      <td>0</td>\n      <td>431</td>\n      <td>0</td>\n      <td>8</td>\n      <td>0</td>\n      <td>0</td>\n      <td>0</td>\n      <td>8</td>\n      <td>8</td>\n      <td>8</td>\n      <td>...</td>\n      <td>False</td>\n      <td>False</td>\n      <td>False</td>\n      <td>False</td>\n      <td>False</td>\n      <td>False</td>\n      <td>False</td>\n      <td>False</td>\n      <td>False</td>\n      <td>True</td>\n    </tr>\n    <tr>\n      <th>0</th>\n      <td>0</td>\n      <td>438</td>\n      <td>12</td>\n      <td>0</td>\n      <td>0</td>\n      <td>0</td>\n      <td>0</td>\n      <td>12</td>\n      <td>0</td>\n      <td>0</td>\n      <td>...</td>\n      <td>False</td>\n      <td>False</td>\n      <td>False</td>\n      <td>False</td>\n      <td>False</td>\n      <td>False</td>\n      <td>False</td>\n      <td>False</td>\n      <td>False</td>\n      <td>True</td>\n    </tr>\n    <tr>\n      <th>0</th>\n      <td>0</td>\n      <td>452</td>\n      <td>12</td>\n      <td>0</td>\n      <td>0</td>\n      <td>0</td>\n      <td>8</td>\n      <td>12</td>\n      <td>12</td>\n      <td>0</td>\n      <td>...</td>\n      <td>False</td>\n      <td>False</td>\n      <td>False</td>\n      <td>False</td>\n      <td>False</td>\n      <td>False</td>\n      <td>False</td>\n      <td>False</td>\n      <td>False</td>\n      <td>True</td>\n    </tr>\n    <tr>\n      <th>0</th>\n      <td>0</td>\n      <td>453</td>\n      <td>0</td>\n      <td>8</td>\n      <td>0</td>\n      <td>0</td>\n      <td>0</td>\n      <td>8</td>\n      <td>8</td>\n      <td>8</td>\n      <td>...</td>\n      <td>False</td>\n      <td>False</td>\n      <td>False</td>\n      <td>False</td>\n      <td>False</td>\n      <td>False</td>\n      <td>False</td>\n      <td>False</td>\n      <td>False</td>\n      <td>True</td>\n    </tr>\n    <tr>\n      <th>0</th>\n      <td>0</td>\n      <td>467</td>\n      <td>12</td>\n      <td>0</td>\n      <td>0</td>\n      <td>0</td>\n      <td>0</td>\n      <td>12</td>\n      <td>17</td>\n      <td>0</td>\n      <td>...</td>\n      <td>False</td>\n      <td>False</td>\n      <td>False</td>\n      <td>False</td>\n      <td>False</td>\n      <td>False</td>\n      <td>False</td>\n      <td>False</td>\n      <td>False</td>\n      <td>True</td>\n    </tr>\n    <tr>\n      <th>0</th>\n      <td>0</td>\n      <td>469</td>\n      <td>12</td>\n      <td>0</td>\n      <td>0</td>\n      <td>0</td>\n      <td>0</td>\n      <td>0</td>\n      <td>0</td>\n      <td>0</td>\n      <td>...</td>\n      <td>False</td>\n      <td>False</td>\n      <td>False</td>\n      <td>False</td>\n      <td>False</td>\n      <td>False</td>\n      <td>False</td>\n      <td>False</td>\n      <td>False</td>\n      <td>True</td>\n    </tr>\n    <tr>\n      <th>0</th>\n      <td>0</td>\n      <td>470</td>\n      <td>0</td>\n      <td>8</td>\n      <td>0</td>\n      <td>0</td>\n      <td>0</td>\n      <td>0</td>\n      <td>8</td>\n      <td>8</td>\n      <td>...</td>\n      <td>False</td>\n      <td>False</td>\n      <td>False</td>\n      <td>False</td>\n      <td>False</td>\n      <td>False</td>\n      <td>False</td>\n      <td>False</td>\n      <td>False</td>\n      <td>True</td>\n    </tr>\n    <tr>\n      <th>0</th>\n      <td>0</td>\n      <td>472</td>\n      <td>12</td>\n      <td>0</td>\n      <td>0</td>\n      <td>0</td>\n      <td>0</td>\n      <td>0</td>\n      <td>0</td>\n      <td>0</td>\n      <td>...</td>\n      <td>False</td>\n      <td>False</td>\n      <td>False</td>\n      <td>False</td>\n      <td>False</td>\n      <td>False</td>\n      <td>False</td>\n      <td>False</td>\n      <td>False</td>\n      <td>True</td>\n    </tr>\n  </tbody>\n</table>\n<p>16 rows × 47 columns</p>\n</div>"
     },
     "execution_count": 55,
     "metadata": {},
     "output_type": "execute_result"
    }
   ],
   "source": [
    "df[df.path_length_20_correct & ~df.standard_prediction_correct]"
   ],
   "metadata": {
    "collapsed": false
   }
  },
  {
   "cell_type": "code",
   "execution_count": null,
   "outputs": [],
   "source": [],
   "metadata": {
    "collapsed": false
   }
  }
 ],
 "metadata": {
  "kernelspec": {
   "display_name": "Python 3",
   "language": "python",
   "name": "python3"
  },
  "language_info": {
   "codemirror_mode": {
    "name": "ipython",
    "version": 2
   },
   "file_extension": ".py",
   "mimetype": "text/x-python",
   "name": "python",
   "nbconvert_exporter": "python",
   "pygments_lexer": "ipython2",
   "version": "2.7.6"
  }
 },
 "nbformat": 4,
 "nbformat_minor": 0
}
