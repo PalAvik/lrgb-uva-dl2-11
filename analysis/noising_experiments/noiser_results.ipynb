{
 "cells": [
  {
   "cell_type": "code",
   "execution_count": null,
   "metadata": {
    "collapsed": true
   },
   "outputs": [],
   "source": [
    "import pandas as pd\n",
    "import matplotlib.pyplot as plt\n",
    "\n",
    "# from graphgps.loader.dataset.voc_superpixels import VOCSuperpixels"
   ]
  },
  {
   "cell_type": "code",
   "execution_count": null,
   "outputs": [],
   "source": [
    "dfs = pd.read_pickle('noising_exp_transformer.pkl')"
   ],
   "metadata": {
    "collapsed": false
   }
  },
  {
   "cell_type": "code",
   "execution_count": null,
   "outputs": [],
   "source": [
    "# df = pd.concat(dfs)\n",
    "df = dfs[0]\n",
    "# df = dfs"
   ],
   "metadata": {
    "collapsed": false
   }
  },
  {
   "cell_type": "code",
   "execution_count": null,
   "outputs": [],
   "source": [
    "df"
   ],
   "metadata": {
    "collapsed": false
   }
  },
  {
   "cell_type": "code",
   "execution_count": null,
   "outputs": [],
   "source": [
    "# sub = df[(df.path_length_18_prediction == df.truth) & (df.standard_prediction != df.truth)]\n",
    "# sub[['truth', 'path_length_18_prediction', 'standard_prediction']]"
   ],
   "metadata": {
    "collapsed": false
   }
  },
  {
   "cell_type": "code",
   "execution_count": null,
   "outputs": [],
   "source": [
    "df['standard_prediction_correct'] = df['truth'] == df['standard_prediction']\n",
    "path_length_columns = df.filter(regex='path_length').columns\n",
    "\n",
    "for path_length_column_name in path_length_columns:\n",
    "    df[path_length_column_name] = df[path_length_column_name].fillna(df['standard_prediction'])\n",
    "    df[path_length_column_name] = df[path_length_column_name].astype(int)\n",
    "    correct_label = path_length_column_name.rstrip('_prediction') + '_correct'\n",
    "\n",
    "    df[correct_label] = df[path_length_column_name] == df['truth']"
   ],
   "metadata": {
    "collapsed": false
   }
  },
  {
   "cell_type": "code",
   "execution_count": null,
   "outputs": [],
   "source": [
    "corrects = df.filter(regex='correct').sum()\n",
    "prop_corrects = (corrects/corrects.loc['standard_prediction_correct'])\n",
    "prop_corrects = prop_corrects.filter(regex='path')\n",
    "prop_corrects = prop_corrects.to_frame().reset_index()\n",
    "prop_corrects['path_length'] = prop_corrects['index'].str.split('_').apply(lambda x: x[2]).astype(int)\n",
    "prop_corrects = prop_corrects.drop(columns=['index'])\n",
    "prop_corrects = prop_corrects.rename(columns={0: 'relative_accuracy'})"
   ],
   "metadata": {
    "collapsed": false
   }
  },
  {
   "cell_type": "code",
   "execution_count": null,
   "outputs": [],
   "source": [
    "corrects"
   ],
   "metadata": {
    "collapsed": false
   }
  },
  {
   "cell_type": "code",
   "execution_count": null,
   "outputs": [],
   "source": [
    "df.filter(regex='correct').count()"
   ],
   "metadata": {
    "collapsed": false
   }
  },
  {
   "cell_type": "code",
   "execution_count": null,
   "outputs": [],
   "source": [
    "# corrects.plot('path_length',\n",
    "#               'relative_accuracy'\n",
    "#               )"
   ],
   "metadata": {
    "collapsed": false
   }
  },
  {
   "cell_type": "code",
   "execution_count": null,
   "outputs": [],
   "source": [
    "df[df.path_length_20_correct & ~df.standard_prediction_correct]"
   ],
   "metadata": {
    "collapsed": false
   }
  },
  {
   "cell_type": "code",
   "execution_count": null,
   "outputs": [],
   "source": [],
   "metadata": {
    "collapsed": false
   }
  }
 ],
 "metadata": {
  "kernelspec": {
   "display_name": "Python 3",
   "language": "python",
   "name": "python3"
  },
  "language_info": {
   "codemirror_mode": {
    "name": "ipython",
    "version": 2
   },
   "file_extension": ".py",
   "mimetype": "text/x-python",
   "name": "python",
   "nbconvert_exporter": "python",
   "pygments_lexer": "ipython2",
   "version": "2.7.6"
  }
 },
 "nbformat": 4,
 "nbformat_minor": 0
}
