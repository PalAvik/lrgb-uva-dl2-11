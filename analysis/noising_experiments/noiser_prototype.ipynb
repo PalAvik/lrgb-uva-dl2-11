{
 "cells": [
  {
   "cell_type": "code",
   "execution_count": 87,
   "metadata": {
    "collapsed": true
   },
   "outputs": [],
   "source": [
    "import torch\n",
    "import torch_geometric as tg\n",
    "import networkx as nx\n",
    "import numpy as np\n",
    "import pandas as pd\n",
    "\n",
    "from graphgps.loader.dataset.voc_superpixels import VOCSuperpixels\n",
    "from functools import cached_property"
   ]
  },
  {
   "cell_type": "code",
   "execution_count": null,
   "outputs": [],
   "source": [
    "# Load up the dataset\n",
    "\n",
    "dataset = VOCSuperpixels(root='../../../datasets/VOCSuperpixels',\n",
    "                         slic_compactness=30,\n",
    "                         name='edge_wt_only_coord',\n",
    "                         split='test')"
   ],
   "metadata": {
    "collapsed": false
   }
  },
  {
   "cell_type": "code",
   "execution_count": 31,
   "outputs": [],
   "source": [
    "data = dataset[0].clone()\n",
    "graph = tg.utils.convert.to_networkx(data)\n",
    "\n",
    "\n",
    "# Only need to do this once, cache for later\n",
    "all_shortest_paths = nx.algorithms.shortest_paths.dense.floyd_warshall_numpy(graph).astype(int)\n",
    "\n",
    "# Identify a target node\n",
    "target_node_idx = 0\n",
    "\n",
    "# get the shortest paths to target node\n",
    "shortest_paths_to_target = all_shortest_paths[:, target_node_idx] # [i, j] is the shortest path from i to j"
   ],
   "metadata": {
    "collapsed": false
   }
  },
  {
   "cell_type": "code",
   "execution_count": 38,
   "outputs": [],
   "source": [
    "shortest_paths_df = pd.DataFrame(shortest_paths_to_target)\n",
    "shortest_paths_df = shortest_paths_df.reset_index().rename(columns = {'index': 'node_id',\n",
    "                                                         0: 'path_length'})"
   ],
   "metadata": {
    "collapsed": false
   }
  },
  {
   "cell_type": "code",
   "execution_count": 42,
   "outputs": [],
   "source": [
    "# Obtain the buckets corresponding to each path length. A map path_length -> node_ids with that path length\n",
    "path_length_buckets = shortest_paths_df.groupby('path_length')['node_id'].groups"
   ],
   "metadata": {
    "collapsed": false
   }
  },
  {
   "cell_type": "code",
   "execution_count": 45,
   "outputs": [],
   "source": [
    "# Now that we have this map, we can use it to create a series of masks for the node values\n"
   ],
   "metadata": {
    "collapsed": false
   }
  },
  {
   "cell_type": "code",
   "execution_count": 78,
   "outputs": [],
   "source": [
    "### First we need to decide what mask we are going to use - here are three options\n",
    "\n",
    "# Just fudge based on the standard deviation\n",
    "standard_deviation_of_input = data.x.std(dim=0)\n",
    "\n",
    "# Replace with the mean input values from this graph\n",
    "mean_of_input = data.x.mean(dim=0)\n",
    "\n",
    "# Replace with the mean inputs from the entire graph\n",
    "mean_of_means = []\n",
    "for d in dataset:\n",
    "    graph_mean = d.x.mean(dim=0)\n",
    "    mean_of_means.append(graph_mean)\n",
    "mean_of_means = torch.row_stack(mean_of_means)\n",
    "mean_of_means = mean_of_means.mean(0)\n"
   ],
   "metadata": {
    "collapsed": false
   }
  },
  {
   "cell_type": "code",
   "execution_count": 91,
   "outputs": [],
   "source": [
    "# Now fix some path_length and generate a mask for each path length that replaces those node values with a fudged value.\n",
    "\n",
    "path_length = 5\n",
    "\n",
    "new_data = data.clone()\n",
    "for index in path_length_buckets[path_length]:\n",
    "    new_data.x[index, :] = mean_of_means # can swap this bit out based on what we want to do"
   ],
   "metadata": {
    "collapsed": false
   }
  }
 ],
 "metadata": {
  "kernelspec": {
   "display_name": "Python 3",
   "language": "python",
   "name": "python3"
  },
  "language_info": {
   "codemirror_mode": {
    "name": "ipython",
    "version": 2
   },
   "file_extension": ".py",
   "mimetype": "text/x-python",
   "name": "python",
   "nbconvert_exporter": "python",
   "pygments_lexer": "ipython2",
   "version": "2.7.6"
  }
 },
 "nbformat": 4,
 "nbformat_minor": 0
}
