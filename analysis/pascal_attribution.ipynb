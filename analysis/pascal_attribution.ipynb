{
 "cells": [
  {
   "cell_type": "code",
   "execution_count": 4,
   "metadata": {
    "collapsed": true
   },
   "outputs": [],
   "source": [
    "import torch_geometric as tg\n",
    "import torch\n",
    "\n",
    "import os"
   ]
  },
  {
   "cell_type": "code",
   "execution_count": null,
   "outputs": [],
   "source": [],
   "metadata": {
    "collapsed": false
   }
  },
  {
   "cell_type": "markdown",
   "source": [
    "### Model Load  Script"
   ],
   "metadata": {
    "collapsed": false
   }
  },
  {
   "cell_type": "code",
   "execution_count": 2,
   "outputs": [],
   "source": [
    "from torch_geometric.graphgym.config import (cfg, dump_cfg,\n",
    "                                             set_cfg, load_cfg,\n",
    "                                             )\n",
    "from torch_geometric.graphgym.loader import create_loader\n",
    "from torch_geometric.graphgym.model_builder import create_model"
   ],
   "metadata": {
    "collapsed": false
   }
  },
  {
   "cell_type": "code",
   "execution_count": null,
   "outputs": [],
   "source": [
    "def custom_set_out_dir(cfg, cfg_fname, name_tag):\n",
    "    \"\"\"Set custom main output directory path to cfg.\n",
    "    Include the config filename and name_tag in the new :obj:`cfg.out_dir`.\n",
    "\n",
    "    Args:\n",
    "        cfg (CfgNode): Configuration node\n",
    "        cfg_fname (string): Filename for the yaml format configuration file\n",
    "        name_tag (string): Additional name tag to identify this execution of the\n",
    "            configuration file, specified in :obj:`cfg.name_tag`\n",
    "    \"\"\"\n",
    "\n",
    "    run_name = os.path.splitext(os.path.basename(cfg_fname))[0]\n",
    "    run_name += f\"-{name_tag}\" if name_tag else \"\"\n",
    "    cfg.out_dir = os.path.join(cfg.out_dir, run_name)"
   ],
   "metadata": {
    "collapsed": false
   }
  },
  {
   "cell_type": "code",
   "execution_count": null,
   "outputs": [],
   "source": [],
   "metadata": {
    "collapsed": false
   }
  },
  {
   "cell_type": "code",
   "execution_count": 3,
   "outputs": [
    {
     "ename": "NameError",
     "evalue": "name 'args' is not defined",
     "output_type": "error",
     "traceback": [
      "\u001B[1;31m---------------------------------------------------------------------------\u001B[0m",
      "\u001B[1;31mNameError\u001B[0m                                 Traceback (most recent call last)",
      "Cell \u001B[1;32mIn[3], line 2\u001B[0m\n\u001B[0;32m      1\u001B[0m set_cfg(cfg)\n\u001B[1;32m----> 2\u001B[0m load_cfg(cfg, \u001B[43margs\u001B[49m)\n\u001B[0;32m      3\u001B[0m custom_set_out_dir(cfg, args\u001B[38;5;241m.\u001B[39mcfg_file, cfg\u001B[38;5;241m.\u001B[39mname_tag)\n\u001B[0;32m      4\u001B[0m dump_cfg(cfg)\n",
      "\u001B[1;31mNameError\u001B[0m: name 'args' is not defined"
     ]
    }
   ],
   "source": [
    "set_cfg(cfg)\n",
    "load_cfg(cfg, args)\n",
    "custom_set_out_dir(cfg, args.cfg_file, cfg.name_tag)\n",
    "dump_cfg(cfg)\n",
    "# Set Pytorch environment\n",
    "torch.set_num_threads(cfg.num_threads)\n",
    "if cfg.train.finetune:\n",
    "    cfg = load_pretrained_model_cfg(cfg)\n",
    "    # Set machine learning pipeline\n",
    "    loaders = create_loader()\n",
    "    loggers = create_logger()\n",
    "    model = create_model()"
   ],
   "metadata": {
    "collapsed": false
   }
  },
  {
   "cell_type": "code",
   "execution_count": null,
   "outputs": [],
   "source": [],
   "metadata": {
    "collapsed": false
   }
  }
 ],
 "metadata": {
  "kernelspec": {
   "display_name": "Python 3",
   "language": "python",
   "name": "python3"
  },
  "language_info": {
   "codemirror_mode": {
    "name": "ipython",
    "version": 2
   },
   "file_extension": ".py",
   "mimetype": "text/x-python",
   "name": "python",
   "nbconvert_exporter": "python",
   "pygments_lexer": "ipython2",
   "version": "2.7.6"
  }
 },
 "nbformat": 4,
 "nbformat_minor": 0
}
