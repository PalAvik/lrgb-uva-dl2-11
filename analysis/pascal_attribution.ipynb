{
 "cells": [
  {
   "cell_type": "code",
   "execution_count": 4,
   "metadata": {
    "collapsed": true
   },
   "outputs": [],
   "source": [
    "import torch_geometric as tg\n",
    "import torch\n",
    "\n",
    "import os"
   ]
  },
  {
   "cell_type": "code",
   "execution_count": null,
   "outputs": [],
   "source": [],
   "metadata": {
    "collapsed": false
   }
  },
  {
   "cell_type": "markdown",
   "source": [
    "### Model Load  Script"
   ],
   "metadata": {
    "collapsed": false
   }
  },
  {
   "cell_type": "code",
   "execution_count": 13,
   "outputs": [],
   "source": [
    "from torch_geometric.graphgym.config import (cfg, dump_cfg,\n",
    "                                             set_cfg, load_cfg,\n",
    "                                             )\n",
    "from torch_geometric.graphgym.loader import create_loader\n",
    "from torch_geometric.graphgym.model_builder import create_model"
   ],
   "metadata": {
    "collapsed": false
   }
  },
  {
   "cell_type": "code",
   "execution_count": 14,
   "outputs": [],
   "source": [
    "def custom_set_out_dir(cfg, cfg_fname, name_tag):\n",
    "    \"\"\"Set custom main output directory path to cfg.\n",
    "    Include the config filename and name_tag in the new :obj:`cfg.out_dir`.\n",
    "\n",
    "    Args:\n",
    "        cfg (CfgNode): Configuration node\n",
    "        cfg_fname (string): Filename for the yaml format configuration file\n",
    "        name_tag (string): Additional name tag to identify this execution of the\n",
    "            configuration file, specified in :obj:`cfg.name_tag`\n",
    "    \"\"\"\n",
    "\n",
    "    run_name = os.path.splitext(os.path.basename(cfg_fname))[0]\n",
    "    run_name += f\"-{name_tag}\" if name_tag else \"\"\n",
    "    cfg.out_dir = os.path.join(cfg.out_dir, run_name)"
   ],
   "metadata": {
    "collapsed": false
   }
  },
  {
   "cell_type": "code",
   "execution_count": 15,
   "outputs": [
    {
     "name": "stdout",
     "output_type": "stream",
     "text": [
      "Namespace(cfg_file='../configs/GCN/vocsuperpixels-GCN.yaml', repeat=1, mark_done=False, opts=['device', 'cpu'])\n"
     ]
    }
   ],
   "source": [
    "import argparse\n",
    "\n",
    "args = argparse.Namespace(cfg_file='../configs/GCN/vocsuperpixels-GCN.yaml',\n",
    "                          repeat=1,\n",
    "                          mark_done=False,\n",
    "                          opts=['device', 'cpu']\n",
    "                         )\n",
    "\n",
    "print(args)"
   ],
   "metadata": {
    "collapsed": false
   }
  },
  {
   "cell_type": "code",
   "execution_count": 16,
   "outputs": [
    {
     "ename": "KeyError",
     "evalue": "'Non-existent config key: wandb'",
     "output_type": "error",
     "traceback": [
      "\u001B[1;31m---------------------------------------------------------------------------\u001B[0m",
      "\u001B[1;31mKeyError\u001B[0m                                  Traceback (most recent call last)",
      "Cell \u001B[1;32mIn[16], line 3\u001B[0m\n\u001B[0;32m      1\u001B[0m set_cfg(cfg)\n\u001B[1;32m----> 3\u001B[0m \u001B[43mload_cfg\u001B[49m\u001B[43m(\u001B[49m\u001B[43mcfg\u001B[49m\u001B[43m,\u001B[49m\u001B[43m \u001B[49m\u001B[43margs\u001B[49m\u001B[43m)\u001B[49m\n\u001B[0;32m      4\u001B[0m custom_set_out_dir(cfg, args\u001B[38;5;241m.\u001B[39mcfg_file, cfg\u001B[38;5;241m.\u001B[39mname_tag)\n\u001B[0;32m      5\u001B[0m dump_cfg(cfg)\n",
      "File \u001B[1;32m~\\miniconda3\\envs\\lrgb\\lib\\site-packages\\torch_geometric\\graphgym\\config.py:501\u001B[0m, in \u001B[0;36mload_cfg\u001B[1;34m(cfg, args)\u001B[0m\n\u001B[0;32m    492\u001B[0m \u001B[38;5;28;01mdef\u001B[39;00m \u001B[38;5;21mload_cfg\u001B[39m(cfg, args):\n\u001B[0;32m    493\u001B[0m \u001B[38;5;250m    \u001B[39m\u001B[38;5;124mr\u001B[39m\u001B[38;5;124;03m\"\"\"\u001B[39;00m\n\u001B[0;32m    494\u001B[0m \u001B[38;5;124;03m    Load configurations from file system and command line\u001B[39;00m\n\u001B[0;32m    495\u001B[0m \n\u001B[1;32m   (...)\u001B[0m\n\u001B[0;32m    499\u001B[0m \n\u001B[0;32m    500\u001B[0m \u001B[38;5;124;03m    \"\"\"\u001B[39;00m\n\u001B[1;32m--> 501\u001B[0m     \u001B[43mcfg\u001B[49m\u001B[38;5;241;43m.\u001B[39;49m\u001B[43mmerge_from_file\u001B[49m\u001B[43m(\u001B[49m\u001B[43margs\u001B[49m\u001B[38;5;241;43m.\u001B[39;49m\u001B[43mcfg_file\u001B[49m\u001B[43m)\u001B[49m\n\u001B[0;32m    502\u001B[0m     cfg\u001B[38;5;241m.\u001B[39mmerge_from_list(args\u001B[38;5;241m.\u001B[39mopts)\n\u001B[0;32m    503\u001B[0m     assert_cfg(cfg)\n",
      "File \u001B[1;32m~\\miniconda3\\envs\\lrgb\\lib\\site-packages\\yacs\\config.py:213\u001B[0m, in \u001B[0;36mCfgNode.merge_from_file\u001B[1;34m(self, cfg_filename)\u001B[0m\n\u001B[0;32m    211\u001B[0m \u001B[38;5;28;01mwith\u001B[39;00m \u001B[38;5;28mopen\u001B[39m(cfg_filename, \u001B[38;5;124m\"\u001B[39m\u001B[38;5;124mr\u001B[39m\u001B[38;5;124m\"\u001B[39m) \u001B[38;5;28;01mas\u001B[39;00m f:\n\u001B[0;32m    212\u001B[0m     cfg \u001B[38;5;241m=\u001B[39m \u001B[38;5;28mself\u001B[39m\u001B[38;5;241m.\u001B[39mload_cfg(f)\n\u001B[1;32m--> 213\u001B[0m \u001B[38;5;28;43mself\u001B[39;49m\u001B[38;5;241;43m.\u001B[39;49m\u001B[43mmerge_from_other_cfg\u001B[49m\u001B[43m(\u001B[49m\u001B[43mcfg\u001B[49m\u001B[43m)\u001B[49m\n",
      "File \u001B[1;32m~\\miniconda3\\envs\\lrgb\\lib\\site-packages\\yacs\\config.py:217\u001B[0m, in \u001B[0;36mCfgNode.merge_from_other_cfg\u001B[1;34m(self, cfg_other)\u001B[0m\n\u001B[0;32m    215\u001B[0m \u001B[38;5;28;01mdef\u001B[39;00m \u001B[38;5;21mmerge_from_other_cfg\u001B[39m(\u001B[38;5;28mself\u001B[39m, cfg_other):\n\u001B[0;32m    216\u001B[0m \u001B[38;5;250m    \u001B[39m\u001B[38;5;124;03m\"\"\"Merge `cfg_other` into this CfgNode.\"\"\"\u001B[39;00m\n\u001B[1;32m--> 217\u001B[0m     \u001B[43m_merge_a_into_b\u001B[49m\u001B[43m(\u001B[49m\u001B[43mcfg_other\u001B[49m\u001B[43m,\u001B[49m\u001B[43m \u001B[49m\u001B[38;5;28;43mself\u001B[39;49m\u001B[43m,\u001B[49m\u001B[43m \u001B[49m\u001B[38;5;28;43mself\u001B[39;49m\u001B[43m,\u001B[49m\u001B[43m \u001B[49m\u001B[43m[\u001B[49m\u001B[43m]\u001B[49m\u001B[43m)\u001B[49m\n",
      "File \u001B[1;32m~\\miniconda3\\envs\\lrgb\\lib\\site-packages\\yacs\\config.py:491\u001B[0m, in \u001B[0;36m_merge_a_into_b\u001B[1;34m(a, b, root, key_list)\u001B[0m\n\u001B[0;32m    489\u001B[0m     root\u001B[38;5;241m.\u001B[39mraise_key_rename_error(full_key)\n\u001B[0;32m    490\u001B[0m \u001B[38;5;28;01melse\u001B[39;00m:\n\u001B[1;32m--> 491\u001B[0m     \u001B[38;5;28;01mraise\u001B[39;00m \u001B[38;5;167;01mKeyError\u001B[39;00m(\u001B[38;5;124m\"\u001B[39m\u001B[38;5;124mNon-existent config key: \u001B[39m\u001B[38;5;132;01m{}\u001B[39;00m\u001B[38;5;124m\"\u001B[39m\u001B[38;5;241m.\u001B[39mformat(full_key))\n",
      "\u001B[1;31mKeyError\u001B[0m: 'Non-existent config key: wandb'"
     ]
    }
   ],
   "source": [
    "set_cfg(cfg)\n",
    "\n",
    "load_cfg(cfg, args)\n",
    "custom_set_out_dir(cfg, args.cfg_file, cfg.name_tag)\n",
    "dump_cfg(cfg)\n",
    "\n",
    "# Set Pytorch environment\n",
    "torch.set_num_threads(cfg.num_threads)\n",
    "if cfg.train.finetune:\n",
    "    cfg = load_pretrained_model_cfg(cfg)\n",
    "    # Set machine learning pipeline\n",
    "    loaders = create_loader()\n",
    "    loggers = create_logger()\n",
    "    model = create_model()"
   ],
   "metadata": {
    "collapsed": false
   }
  },
  {
   "cell_type": "code",
   "execution_count": null,
   "outputs": [],
   "source": [],
   "metadata": {
    "collapsed": false
   }
  }
 ],
 "metadata": {
  "kernelspec": {
   "display_name": "Python 3",
   "language": "python",
   "name": "python3"
  },
  "language_info": {
   "codemirror_mode": {
    "name": "ipython",
    "version": 2
   },
   "file_extension": ".py",
   "mimetype": "text/x-python",
   "name": "python",
   "nbconvert_exporter": "python",
   "pygments_lexer": "ipython2",
   "version": "2.7.6"
  }
 },
 "nbformat": 4,
 "nbformat_minor": 0
}
