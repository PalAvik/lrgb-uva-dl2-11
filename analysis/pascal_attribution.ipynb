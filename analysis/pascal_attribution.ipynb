{
 "cells": [
  {
   "cell_type": "code",
   "execution_count": 4,
   "metadata": {
    "collapsed": true
   },
   "outputs": [],
   "source": [
    "import torch_geometric as tg\n",
    "import torch\n",
    "\n",
    "import os"
   ]
  },
  {
   "cell_type": "code",
   "execution_count": null,
   "outputs": [],
   "source": [],
   "metadata": {
    "collapsed": false
   }
  },
  {
   "cell_type": "markdown",
   "source": [
    "### Model Load  Script"
   ],
   "metadata": {
    "collapsed": false
   }
  },
  {
   "cell_type": "code",
   "execution_count": 18,
   "outputs": [],
   "source": [
    "model = torch.load('../entire_models/test.pkl')"
   ],
   "metadata": {
    "collapsed": false
   }
  },
  {
   "cell_type": "code",
   "execution_count": 19,
   "outputs": [
    {
     "data": {
      "text/plain": "GNN(\n  (encoder): FeatureEncoder(\n    (node_encoder): VOCNodeEncoder(\n      (encoder): Linear(in_features=14, out_features=220, bias=True)\n    )\n  )\n  (mp): GNNStackStage(\n    (layer0): GeneralLayer(\n      (layer): GCNConv(\n        (model): GCNConv(220, 220)\n      )\n      (post_layer): Sequential(\n        (0): BatchNorm1d(220, eps=1e-05, momentum=0.1, affine=True, track_running_stats=True)\n        (1): ReLU()\n      )\n    )\n    (layer1): GeneralLayer(\n      (layer): GCNConv(\n        (model): GCNConv(220, 220)\n      )\n      (post_layer): Sequential(\n        (0): BatchNorm1d(220, eps=1e-05, momentum=0.1, affine=True, track_running_stats=True)\n        (1): ReLU()\n      )\n    )\n    (layer2): GeneralLayer(\n      (layer): GCNConv(\n        (model): GCNConv(220, 220)\n      )\n      (post_layer): Sequential(\n        (0): BatchNorm1d(220, eps=1e-05, momentum=0.1, affine=True, track_running_stats=True)\n        (1): ReLU()\n      )\n    )\n    (layer3): GeneralLayer(\n      (layer): GCNConv(\n        (model): GCNConv(220, 220)\n      )\n      (post_layer): Sequential(\n        (0): BatchNorm1d(220, eps=1e-05, momentum=0.1, affine=True, track_running_stats=True)\n        (1): ReLU()\n      )\n    )\n    (layer4): GeneralLayer(\n      (layer): GCNConv(\n        (model): GCNConv(220, 220)\n      )\n      (post_layer): Sequential(\n        (0): BatchNorm1d(220, eps=1e-05, momentum=0.1, affine=True, track_running_stats=True)\n        (1): ReLU()\n      )\n    )\n    (layer5): GeneralLayer(\n      (layer): GCNConv(\n        (model): GCNConv(220, 220)\n      )\n      (post_layer): Sequential(\n        (0): BatchNorm1d(220, eps=1e-05, momentum=0.1, affine=True, track_running_stats=True)\n        (1): ReLU()\n      )\n    )\n    (layer6): GeneralLayer(\n      (layer): GCNConv(\n        (model): GCNConv(220, 220)\n      )\n      (post_layer): Sequential(\n        (0): BatchNorm1d(220, eps=1e-05, momentum=0.1, affine=True, track_running_stats=True)\n        (1): ReLU()\n      )\n    )\n    (layer7): GeneralLayer(\n      (layer): GCNConv(\n        (model): GCNConv(220, 220)\n      )\n      (post_layer): Sequential(\n        (0): BatchNorm1d(220, eps=1e-05, momentum=0.1, affine=True, track_running_stats=True)\n        (1): ReLU()\n      )\n    )\n  )\n  (post_mp): GNNInductiveNodeHead(\n    (layer_post_mp): MLP(\n      (model): Sequential(\n        (0): GeneralMultiLayer(\n          (Layer_0): GeneralLayer(\n            (layer): Linear(\n              (model): Linear(in_features=220, out_features=220, bias=True)\n            )\n            (post_layer): Sequential(\n              (0): ReLU()\n            )\n          )\n          (Layer_1): GeneralLayer(\n            (layer): Linear(\n              (model): Linear(in_features=220, out_features=220, bias=True)\n            )\n            (post_layer): Sequential(\n              (0): ReLU()\n            )\n          )\n        )\n        (1): Linear(\n          (model): Linear(in_features=220, out_features=1, bias=True)\n        )\n      )\n    )\n  )\n)"
     },
     "execution_count": 19,
     "metadata": {},
     "output_type": "execute_result"
    }
   ],
   "source": [
    "model"
   ],
   "metadata": {
    "collapsed": false
   }
  },
  {
   "cell_type": "code",
   "execution_count": null,
   "outputs": [],
   "source": [],
   "metadata": {
    "collapsed": false
   }
  }
 ],
 "metadata": {
  "kernelspec": {
   "display_name": "Python 3",
   "language": "python",
   "name": "python3"
  },
  "language_info": {
   "codemirror_mode": {
    "name": "ipython",
    "version": 2
   },
   "file_extension": ".py",
   "mimetype": "text/x-python",
   "name": "python",
   "nbconvert_exporter": "python",
   "pygments_lexer": "ipython2",
   "version": "2.7.6"
  }
 },
 "nbformat": 4,
 "nbformat_minor": 0
}
